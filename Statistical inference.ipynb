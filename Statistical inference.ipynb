{
 "cells": [
  {
   "cell_type": "code",
   "execution_count": 1,
   "id": "apart-tender",
   "metadata": {},
   "outputs": [],
   "source": [
    "## importing necessary libraries:\n",
    "import pandas as pd\n",
    "import seaborn as sns\n",
    "import matplotlib.pyplot as plt\n",
    "import warnings\n",
    "from scipy import stats as st\n",
    "import scipy.stats as st\n",
    "import os, re\n",
    "from tqdm import tqdm\n",
    "import numpy as np\n",
    "from matplotlib import ticker as mtick\n",
    "import cmasher as cmr\n",
    "from sklearn.model_selection import cross_val_score, train_test_split, learning_curve, validation_curve\n",
    "from sklearn.linear_model import LinearRegression\n",
    "from sklearn.metrics import classification_report, confusion_matrix, mean_squared_error, r2_score, make_scorer\n",
    "from sklearn.utils import shuffle\n",
    "from scipy import stats as st\n",
    "from sklearn.feature_selection import mutual_info_regression\n",
    "warnings.filterwarnings('ignore')\n",
    "sns.set_style('white')\n",
    "\n",
    "## setting up some parameters for making a clean and sound data visualization:\n",
    "from matplotlib import rcParams\n",
    "rcParams['figure.figsize']= (10.5,5)\n",
    "rcParams['axes.linewidth']=0.3\n",
    "rcParams['axes.labelsize']=15\n",
    "rcParams['axes.labelweight']='semibold'\n",
    "rcParams['axes.titlesize']=18\n",
    "rcParams['axes.titleweight']='semibold'\n",
    "rcParams['axes.edgecolor']='grey'\n",
    "rcParams['font.stretch']='semi-condensed'\n",
    "rcParams['font.family']='sans-serif'\n",
    "rcParams['legend.frameon']=False\n",
    "rcParams['legend.fontsize']=10.5\n",
    "rcParams['ytick.labelsize']=12.5\n",
    "rcParams['xtick.labelsize']=12.5\n",
    "rcParams['axes.spines.top']=False\n",
    "rcParams['axes.spines.right']=False"
   ]
  },
  {
   "cell_type": "code",
   "execution_count": 15,
   "id": "funny-moral",
   "metadata": {},
   "outputs": [],
   "source": [
    "## Print out No of rows and columns in a dataframe:\n",
    "def data_shape(data):\n",
    "    print('No of Rows: {a}\\nNo of Columns:{b}'.format(a= data.shape[0], \n",
    "                                                      b= data.shape[1]))\n",
    "    \n",
    "\n",
    "## Funtion for encoding some categorial features:\n",
    "def cat_encoder(series):\n",
    "    zipped= zip(series.value_counts().sort_values().index, range(series.nunique()))\n",
    "    dicts= dict(zipped)\n",
    "    return series.map(dicts)\n",
    "\n",
    "## Function for standard scaling of features:\n",
    "def standard_scaler(series, ddof=None):\n",
    "    if ddof:\n",
    "        sd= np.std(series, ddof=ddof)\n",
    "    else:\n",
    "        sd= np.std(series)\n",
    "    return (series-series.mean())/sd\n",
    "\n",
    "## Function for Mix-Max Scaling (Normalization) of features:\n",
    "def minmax_scaler(series):\n",
    "    return(series-series.min())/(series.max()- series.min())    \n",
    "\n",
    "## Function for relative frequency of a variable:\n",
    "def relative_freq(series):\n",
    "    return series/series.sum()\n",
    "\n",
    "## Function for generating random colors:\n",
    "def random_colors(size=1):\n",
    "    import random\n",
    "    return ['#'+''.join([i for i in shuffle('abcdef0123456789')][:6]) for i in range(size)]\n",
    "\n",
    "def rmse(y_true, y_pred):\n",
    "    from sklearn.metrics import mean_squared_error\n",
    "    import numpy as np\n",
    "    return np.sqrt(mean_squared_error(y_true, y_pred))\n",
    "\n",
    "def outliers(data):\n",
    "    q3= np.quantile(data, 0.75)\n",
    "    q1= np.quantile(data, 0.25)\n",
    "    iqr= q3-q1\n",
    "    \n",
    "    ll= q1- (1.5*iqr)\n",
    "    ul= q3+ (1.5*iqr)\n",
    "    \n",
    "    return ((data< ll) | (data>ul))"
   ]
  },
  {
   "cell_type": "code",
   "execution_count": 576,
   "id": "expanded-wisdom",
   "metadata": {
    "scrolled": true
   },
   "outputs": [],
   "source": [
    "## Function for computing p-values and z-score for One-sample hypothesis testing: \n",
    "def one_sample_ztest(x, hyp_mean,alpha, alternative= 'two-sided'):\n",
    "    '''\n",
    "    x: [array or list like]\n",
    "    hyp_mean: Hypothesized Mean int|float\n",
    "    alpha= significance float\n",
    "    alternative: \n",
    "        'two-sided'\n",
    "        'larger'\n",
    "        'smaller'\n",
    "    '''\n",
    "    hyp_mean= hyp_mean\n",
    "    mu= x.mean()\n",
    "    std= np.std(x)\n",
    "    se= std/(len(x)**0.5)\n",
    "    z= (mu-hyp_mean)/se\n",
    "    if alternative=='two-sided': p_val= (1-st.norm.cdf(abs(z)))**2\n",
    "    else: p_val= (1-st.norm.cdf(abs(z)))\n",
    "    return z, p_val\n",
    "\n",
    "## Function to print out hypothesis results:\n",
    "def results(p_val, alpha):\n",
    "    if p_val<alpha:\n",
    "        print('We reject the Null hypothesis(H0) with p-value:{:.5f}'.format(p_val))\n",
    "    else:\n",
    "        print('We failed to reject the H0 with p-value:{:.5f}'.format(p_val))\n",
    "    \n",
    "### Function for estimating confidence intervals:\n",
    "def intervals(x, significance):\n",
    "    mu= x.mean() # sample mean\n",
    "    sigma= x.std() # sample std dev\n",
    "    n= len(x) # size\n",
    "    z= abs(st.norm.ppf((1-significance)/2)) ## get z-critical value\n",
    "    se= sigma/(n**0.5) ## Compute standard error of mean\n",
    "    l, r= mu-(z*se), mu+(z*se) ## estimate intervals\n",
    "    return l,r\n",
    "\n",
    "\n",
    "def contingency_table(data):\n",
    "    d=[]\n",
    "    grand_total= np.sum(data)\n",
    "    for j in range(data.shape[1]):\n",
    "        for i in range(data.shape[0]):\n",
    "             d.append(data[i].sum()*np.sum(data, axis=0)[j])\n",
    "\n",
    "    return (np.array(d).reshape(data.shape[1],-1).T)/grand_total\n",
    "\n",
    "## defining a function for testing in independence between the variables: \n",
    "def chi_square(data):\n",
    "    df= (data.shape[0]-1)* (data.shape[1]-1)\n",
    "    e= contingency_table(data)\n",
    "    chi= np.sum(((data-e)**2)/e)\n",
    "    p= 1-st.chi2.cdf(abs(chi),df= df)\n",
    "    return chi, p"
   ]
  },
  {
   "cell_type": "code",
   "execution_count": 843,
   "id": "meaning-adaptation",
   "metadata": {},
   "outputs": [
    {
     "data": {
      "text/html": [
       "<div>\n",
       "<style scoped>\n",
       "    .dataframe tbody tr th:only-of-type {\n",
       "        vertical-align: middle;\n",
       "    }\n",
       "\n",
       "    .dataframe tbody tr th {\n",
       "        vertical-align: top;\n",
       "    }\n",
       "\n",
       "    .dataframe thead th {\n",
       "        text-align: right;\n",
       "    }\n",
       "</style>\n",
       "<table border=\"1\" class=\"dataframe\">\n",
       "  <thead>\n",
       "    <tr style=\"text-align: right;\">\n",
       "      <th></th>\n",
       "      <th>age</th>\n",
       "      <th>attrition</th>\n",
       "      <th>businesstravel</th>\n",
       "      <th>department</th>\n",
       "      <th>distancefromhome</th>\n",
       "      <th>education</th>\n",
       "      <th>educationfield</th>\n",
       "      <th>employeecount</th>\n",
       "      <th>employeeid</th>\n",
       "      <th>gender</th>\n",
       "      <th>...</th>\n",
       "      <th>numcompaniesworked</th>\n",
       "      <th>over18</th>\n",
       "      <th>percentsalaryhike</th>\n",
       "      <th>standardhours</th>\n",
       "      <th>stockoptionlevel</th>\n",
       "      <th>totalworkingyears</th>\n",
       "      <th>trainingtimeslastyear</th>\n",
       "      <th>yearsatcompany</th>\n",
       "      <th>yearssincelastpromotion</th>\n",
       "      <th>yearswithcurrmanager</th>\n",
       "    </tr>\n",
       "  </thead>\n",
       "  <tbody>\n",
       "    <tr>\n",
       "      <th>0</th>\n",
       "      <td>51</td>\n",
       "      <td>No</td>\n",
       "      <td>Travel_Rarely</td>\n",
       "      <td>Sales</td>\n",
       "      <td>6</td>\n",
       "      <td>2</td>\n",
       "      <td>Life Sciences</td>\n",
       "      <td>1</td>\n",
       "      <td>1</td>\n",
       "      <td>Female</td>\n",
       "      <td>...</td>\n",
       "      <td>1.0</td>\n",
       "      <td>Y</td>\n",
       "      <td>11</td>\n",
       "      <td>8</td>\n",
       "      <td>0</td>\n",
       "      <td>1.0</td>\n",
       "      <td>6</td>\n",
       "      <td>1</td>\n",
       "      <td>0</td>\n",
       "      <td>0</td>\n",
       "    </tr>\n",
       "    <tr>\n",
       "      <th>1</th>\n",
       "      <td>31</td>\n",
       "      <td>Yes</td>\n",
       "      <td>Travel_Frequently</td>\n",
       "      <td>Research &amp; Development</td>\n",
       "      <td>10</td>\n",
       "      <td>1</td>\n",
       "      <td>Life Sciences</td>\n",
       "      <td>1</td>\n",
       "      <td>2</td>\n",
       "      <td>Female</td>\n",
       "      <td>...</td>\n",
       "      <td>0.0</td>\n",
       "      <td>Y</td>\n",
       "      <td>23</td>\n",
       "      <td>8</td>\n",
       "      <td>1</td>\n",
       "      <td>6.0</td>\n",
       "      <td>3</td>\n",
       "      <td>5</td>\n",
       "      <td>1</td>\n",
       "      <td>4</td>\n",
       "    </tr>\n",
       "    <tr>\n",
       "      <th>2</th>\n",
       "      <td>32</td>\n",
       "      <td>No</td>\n",
       "      <td>Travel_Frequently</td>\n",
       "      <td>Research &amp; Development</td>\n",
       "      <td>17</td>\n",
       "      <td>4</td>\n",
       "      <td>Other</td>\n",
       "      <td>1</td>\n",
       "      <td>3</td>\n",
       "      <td>Male</td>\n",
       "      <td>...</td>\n",
       "      <td>1.0</td>\n",
       "      <td>Y</td>\n",
       "      <td>15</td>\n",
       "      <td>8</td>\n",
       "      <td>3</td>\n",
       "      <td>5.0</td>\n",
       "      <td>2</td>\n",
       "      <td>5</td>\n",
       "      <td>0</td>\n",
       "      <td>3</td>\n",
       "    </tr>\n",
       "    <tr>\n",
       "      <th>3</th>\n",
       "      <td>38</td>\n",
       "      <td>No</td>\n",
       "      <td>Non-Travel</td>\n",
       "      <td>Research &amp; Development</td>\n",
       "      <td>2</td>\n",
       "      <td>5</td>\n",
       "      <td>Life Sciences</td>\n",
       "      <td>1</td>\n",
       "      <td>4</td>\n",
       "      <td>Male</td>\n",
       "      <td>...</td>\n",
       "      <td>3.0</td>\n",
       "      <td>Y</td>\n",
       "      <td>11</td>\n",
       "      <td>8</td>\n",
       "      <td>3</td>\n",
       "      <td>13.0</td>\n",
       "      <td>5</td>\n",
       "      <td>8</td>\n",
       "      <td>7</td>\n",
       "      <td>5</td>\n",
       "    </tr>\n",
       "    <tr>\n",
       "      <th>4</th>\n",
       "      <td>32</td>\n",
       "      <td>No</td>\n",
       "      <td>Travel_Rarely</td>\n",
       "      <td>Research &amp; Development</td>\n",
       "      <td>10</td>\n",
       "      <td>1</td>\n",
       "      <td>Medical</td>\n",
       "      <td>1</td>\n",
       "      <td>5</td>\n",
       "      <td>Male</td>\n",
       "      <td>...</td>\n",
       "      <td>4.0</td>\n",
       "      <td>Y</td>\n",
       "      <td>12</td>\n",
       "      <td>8</td>\n",
       "      <td>2</td>\n",
       "      <td>9.0</td>\n",
       "      <td>2</td>\n",
       "      <td>6</td>\n",
       "      <td>0</td>\n",
       "      <td>4</td>\n",
       "    </tr>\n",
       "  </tbody>\n",
       "</table>\n",
       "<p>5 rows × 24 columns</p>\n",
       "</div>"
      ],
      "text/plain": [
       "   age attrition     businesstravel              department  distancefromhome  \\\n",
       "0   51        No      Travel_Rarely                   Sales                 6   \n",
       "1   31       Yes  Travel_Frequently  Research & Development                10   \n",
       "2   32        No  Travel_Frequently  Research & Development                17   \n",
       "3   38        No         Non-Travel  Research & Development                 2   \n",
       "4   32        No      Travel_Rarely  Research & Development                10   \n",
       "\n",
       "   education educationfield  employeecount  employeeid  gender  ...  \\\n",
       "0          2  Life Sciences              1           1  Female  ...   \n",
       "1          1  Life Sciences              1           2  Female  ...   \n",
       "2          4          Other              1           3    Male  ...   \n",
       "3          5  Life Sciences              1           4    Male  ...   \n",
       "4          1        Medical              1           5    Male  ...   \n",
       "\n",
       "   numcompaniesworked over18 percentsalaryhike  standardhours  \\\n",
       "0                 1.0      Y                11              8   \n",
       "1                 0.0      Y                23              8   \n",
       "2                 1.0      Y                15              8   \n",
       "3                 3.0      Y                11              8   \n",
       "4                 4.0      Y                12              8   \n",
       "\n",
       "   stockoptionlevel totalworkingyears  trainingtimeslastyear  yearsatcompany  \\\n",
       "0                 0               1.0                      6               1   \n",
       "1                 1               6.0                      3               5   \n",
       "2                 3               5.0                      2               5   \n",
       "3                 3              13.0                      5               8   \n",
       "4                 2               9.0                      2               6   \n",
       "\n",
       "   yearssincelastpromotion  yearswithcurrmanager  \n",
       "0                        0                     0  \n",
       "1                        1                     4  \n",
       "2                        0                     3  \n",
       "3                        7                     5  \n",
       "4                        0                     4  \n",
       "\n",
       "[5 rows x 24 columns]"
      ]
     },
     "execution_count": 843,
     "metadata": {},
     "output_type": "execute_result"
    }
   ],
   "source": [
    "df= pd.read_csv('general_data.csv')\n",
    "df.columns=df.columns.str.lower()\n",
    "df.head()"
   ]
  },
  {
   "cell_type": "code",
   "execution_count": 844,
   "id": "illegal-naples",
   "metadata": {},
   "outputs": [
    {
     "data": {
      "text/plain": [
       "(4410, 24)"
      ]
     },
     "execution_count": 844,
     "metadata": {},
     "output_type": "execute_result"
    }
   ],
   "source": [
    "df.shape"
   ]
  },
  {
   "cell_type": "code",
   "execution_count": 845,
   "id": "incident-indianapolis",
   "metadata": {},
   "outputs": [
    {
     "data": {
      "image/png": "[encoded data removed]",
      "text/plain": [
       "<Figure size 756x360 with 1 Axes>"
      ]
     },
     "metadata": {},
     "output_type": "display_data"
    }
   ],
   "source": [
    "age= (df.age**(1/3))\n",
    "sample= age.sample(200)\n",
    "sample= np.random.normal(sample.mean(),sample.std(),500)\n",
    "plt.hist(sample)\n",
    "plt.show()"
   ]
  },
  {
   "cell_type": "markdown",
   "id": "billion-cooling",
   "metadata": {},
   "source": [
    "### Confidence Intervals:"
   ]
  },
  {
   "cell_type": "markdown",
   "id": "operating-thesaurus",
   "metadata": {},
   "source": [
    "#### Estimating population mean:"
   ]
  },
  {
   "cell_type": "markdown",
   "id": "considered-three",
   "metadata": {},
   "source": [
    "#### Whether or not the Average age of the employees in the data more than 40?\n",
    "#### $H\\theta: \\mu= 3.5$\n",
    "#### $H1: \\mu > 3.5$"
   ]
  },
  {
   "cell_type": "code",
   "execution_count": 846,
   "id": "finished-conversation",
   "metadata": {},
   "outputs": [],
   "source": [
    "z= one_sample_ztest(sample, 3.5, 0.05, 'one-sided')"
   ]
  },
  {
   "cell_type": "code",
   "execution_count": 847,
   "id": "played-exposure",
   "metadata": {},
   "outputs": [
    {
     "ename": "TypeError",
     "evalue": "'tuple' object is not callable",
     "output_type": "error",
     "traceback": [
      "\u001b[1;31m---------------------------------------------------------------------------\u001b[0m",
      "\u001b[1;31mTypeError\u001b[0m                                 Traceback (most recent call last)",
      "\u001b[1;32m<ipython-input-847-edf315e9e91f>\u001b[0m in \u001b[0;36m<module>\u001b[1;34m\u001b[0m\n\u001b[1;32m----> 1\u001b[1;33m \u001b[0mresults\u001b[0m\u001b[1;33m(\u001b[0m\u001b[0mz\u001b[0m\u001b[1;33m[\u001b[0m\u001b[1;36m1\u001b[0m\u001b[1;33m]\u001b[0m\u001b[1;33m,\u001b[0m\u001b[1;36m0.05\u001b[0m \u001b[1;33m)\u001b[0m\u001b[1;33m\u001b[0m\u001b[1;33m\u001b[0m\u001b[0m\n\u001b[0m",
      "\u001b[1;31mTypeError\u001b[0m: 'tuple' object is not callable"
     ]
    }
   ],
   "source": [
    "results(z[1],0.05 )"
   ]
  },
  {
   "cell_type": "code",
   "execution_count": 848,
   "id": "durable-milwaukee",
   "metadata": {
    "scrolled": false
   },
   "outputs": [
    {
     "data": {
      "text/plain": [
       "<matplotlib.collections.PolyCollection at 0x1f587862940>"
      ]
     },
     "execution_count": 848,
     "metadata": {},
     "output_type": "execute_result"
    },
    {
     "data": {
      "image/png": "[encoded data removed]",
      "text/plain": [
       "<Figure size 756x360 with 1 Axes>"
      ]
     },
     "metadata": {},
     "output_type": "display_data"
    }
   ],
   "source": [
    "x= np.linspace(-3,3,100)\n",
    "pdf= st.norm.pdf(x)\n",
    "plt.plot(x,pdf)\n",
    "plt.fill_between(x,pdf, where= (x > 1.64), alpha=0.25)"
   ]
  },
  {
   "cell_type": "markdown",
   "id": "rural-brass",
   "metadata": {},
   "source": [
    "#### Whether or not the Average age of the employees in the data more than 40?\n",
    "#### $H\\theta: \\mu= 3.5$\n",
    "#### $H1: \\mu \\neq 3.5$"
   ]
  },
  {
   "cell_type": "code",
   "execution_count": 850,
   "id": "rocky-uniform",
   "metadata": {},
   "outputs": [
    {
     "data": {
      "text/plain": [
       "<matplotlib.collections.PolyCollection at 0x1f58791c0d0>"
      ]
     },
     "execution_count": 850,
     "metadata": {},
     "output_type": "execute_result"
    },
    {
     "data": {
      "image/png": "[encoded data removed]",
      "text/plain": [
       "<Figure size 756x360 with 1 Axes>"
      ]
     },
     "metadata": {},
     "output_type": "display_data"
    }
   ],
   "source": [
    "x= np.linspace(-3,3,100)\n",
    "pdf= st.norm.pdf(x)\n",
    "plt.plot(x,pdf)\n",
    "plt.fill_between(x,pdf, where= (abs(x) > 1.96), alpha=0.25)"
   ]
  },
  {
   "cell_type": "markdown",
   "id": "german-rebound",
   "metadata": {},
   "source": [
    "### Estimation population proportions:"
   ]
  },
  {
   "cell_type": "markdown",
   "id": "centered-reference",
   "metadata": {},
   "source": [
    "#### $H\\theta: \\hat P = 0.15$\n",
    "#### $H1: \\hat P \\neq 0.15$"
   ]
  },
  {
   "cell_type": "code",
   "execution_count": 851,
   "id": "grand-exchange",
   "metadata": {},
   "outputs": [],
   "source": [
    "sample= df[df.gender=='Female'].sample(120)"
   ]
  },
  {
   "cell_type": "code",
   "execution_count": 852,
   "id": "artistic-renewal",
   "metadata": {},
   "outputs": [],
   "source": [
    "p= (sample.attrition=='Yes').mean()\n",
    "n= (sample.attrition=='Yes').sum()\n",
    "se= np.sqrt((p*(1-p))/n)\n",
    "z= (p-0.15)/se"
   ]
  },
  {
   "cell_type": "code",
   "execution_count": 853,
   "id": "wooden-senator",
   "metadata": {},
   "outputs": [],
   "source": [
    "p_val= (1-st.norm.cdf(abs(z)))*2"
   ]
  },
  {
   "cell_type": "code",
   "execution_count": 854,
   "id": "packed-strip",
   "metadata": {},
   "outputs": [
    {
     "data": {
      "text/plain": [
       "Text(0.2, 0.3, 'z')"
      ]
     },
     "execution_count": 854,
     "metadata": {},
     "output_type": "execute_result"
    },
    {
     "data": {
      "image/png": "[encoded data removed]",
      "text/plain": [
       "<Figure size 756x360 with 1 Axes>"
      ]
     },
     "metadata": {},
     "output_type": "display_data"
    }
   ],
   "source": [
    "x= np.linspace(-3,3,100)\n",
    "pdf= st.norm.pdf(x)\n",
    "plt.plot(x,pdf)\n",
    "plt.fill_between(x,pdf, where= (abs(x) > 1.96), alpha=0.25)\n",
    "plt.axvline(z, ls='--', color='red')\n",
    "plt.annotate(xy= (0.2,0.30), text='z', fontsize= 14)"
   ]
  },
  {
   "cell_type": "markdown",
   "id": "communist-therapy",
   "metadata": {},
   "source": [
    "### Difference in population proportions:"
   ]
  },
  {
   "cell_type": "markdown",
   "id": "reserved-preference",
   "metadata": {},
   "source": [
    "#### Is there any significant difference in attrition between two genders:\n",
    "#### $H\\theta: \\hat P_M = \\hat P_F$\n",
    "#### $H1: \\hat P_M \\neq \\hat P_F$ "
   ]
  },
  {
   "cell_type": "code",
   "execution_count": 855,
   "id": "unusual-still",
   "metadata": {},
   "outputs": [],
   "source": [
    "sample= pd.crosstab(df.attrition, df.gender).T\n",
    "sample= sample.apply(lambda x: x/x.sum())\n",
    "pf= sample['Yes'][0]\n",
    "pm= sample['Yes'][1]"
   ]
  },
  {
   "cell_type": "code",
   "execution_count": 856,
   "id": "major-mainland",
   "metadata": {},
   "outputs": [],
   "source": [
    "nf= (df.gender=='Female').sum()\n",
    "nm= (df.gender=='Male').sum()"
   ]
  },
  {
   "cell_type": "code",
   "execution_count": 857,
   "id": "driving-auckland",
   "metadata": {},
   "outputs": [],
   "source": [
    "phat= (pm+pf)/(nm+nf)"
   ]
  },
  {
   "cell_type": "code",
   "execution_count": 858,
   "id": "intellectual-custody",
   "metadata": {},
   "outputs": [],
   "source": [
    "se= np.sqrt((phat*(1-phat))*((1/pm)+ (1/pf)))\n",
    "z= ((pm-pf) -0)/se"
   ]
  },
  {
   "cell_type": "code",
   "execution_count": 859,
   "id": "disciplinary-content",
   "metadata": {},
   "outputs": [
    {
     "name": "stdout",
     "output_type": "stream",
     "text": [
      "We reject the H0 as p-value < 0.05, which means there is significant difference between Male and Female proportion who have attrited.\n"
     ]
    }
   ],
   "source": [
    "pval= 2*(1-st.norm.cdf(abs(z)))\n",
    "print('We reject the H0 as p-value < 0.05, which means there is significant difference between Male and Female proportion who have attrited.')"
   ]
  },
  {
   "cell_type": "markdown",
   "id": "monthly-florist",
   "metadata": {},
   "source": [
    "#### Test for difference in population means:"
   ]
  },
  {
   "cell_type": "markdown",
   "id": "atomic-organizer",
   "metadata": {},
   "source": [
    "#### $ H\\theta: \\mu_{Attrited}= \\mu_{un-attrited}$\n",
    "#### $ H1: \\mu_{Attrited} \\neq \\mu_{un-attrited}$"
   ]
  },
  {
   "cell_type": "code",
   "execution_count": 860,
   "id": "hundred-transparency",
   "metadata": {},
   "outputs": [],
   "source": [
    "x1= age[df.attrition=='Yes'].sample(200)\n",
    "x2= age[df.attrition=='No'].sample(200)"
   ]
  },
  {
   "cell_type": "code",
   "execution_count": 861,
   "id": "skilled-journalist",
   "metadata": {},
   "outputs": [],
   "source": [
    "def two_sample_test(x1, x2, hyp=0, method='unpooled', alternative='two-sided'):\n",
    "    mu1=np.mean(x1)\n",
    "    mu2= np.mean(x2)\n",
    "    s1= np.std(x1)\n",
    "    s2= np.std(x2)\n",
    "    n1, n2= len(x1), len(x2)\n",
    "    md= mu1-mu2\n",
    "    if method=='unpooled':\n",
    "        se= np.sqrt((s1**2/n1)+(s2**2/n2))\n",
    "    else:\n",
    "        dof= n1+n2-2\n",
    "        sp= np.sqrt((((n1-1)*(s1**2))+ ((n2-1)*(s2**2)))/dof)\n",
    "        se= sp*np.sqrt((1/n1)+ (1/n2))\n",
    "        \n",
    "    z= (md-hyp)/(se)\n",
    "    \n",
    "    if alternative=='two-sided':\n",
    "        p_val= (1-st.norm.cdf(abs(z)))*2\n",
    "    else:\n",
    "        p_val= (1-st.norm.cdf(abs(z)))\n",
    "        \n",
    "    return z, p_val"
   ]
  },
  {
   "cell_type": "code",
   "execution_count": 862,
   "id": "promising-rugby",
   "metadata": {},
   "outputs": [
    {
     "name": "stdout",
     "output_type": "stream",
     "text": [
      "We reject the H0 as p-val < 0.05\n"
     ]
    }
   ],
   "source": [
    "results= two_sample_test(x1, x2)\n",
    "if results[1]< 0.05:\n",
    "    print('We reject the H0 as p-val < 0.05')\n",
    "else:\n",
    "    print('We failed to reject the H0 as p-val > 0.05')"
   ]
  },
  {
   "cell_type": "code",
   "execution_count": 863,
   "id": "equipped-holocaust",
   "metadata": {},
   "outputs": [],
   "source": [
    "def two_sample_intervals(x1, x2, significance,hyp=0, method='unpooled'):\n",
    "    mu1=np.mean(x1)\n",
    "    mu2= np.mean(x2)\n",
    "    s1= np.std(x1)\n",
    "    s2= np.std(x2)\n",
    "    n1, n2= len(x1), len(x2)\n",
    "    md= mu1-mu2\n",
    "    if method=='unpooled':\n",
    "        se= np.sqrt((s1**2/n1)+(s2**2/n2))\n",
    "    else:\n",
    "        dof= n1+n2-2\n",
    "        sp= np.sqrt((((n1-1)*(s1**2))+ ((n2-1)*(s2**2)))/dof)\n",
    "        se= sp*np.sqrt((1/n1)+ (1/n2))\n",
    "    \n",
    "    sig= (1-significance)/2\n",
    "    z_critical= abs(st.norm.ppf(sig))\n",
    "    \n",
    "    ll= md - (z_critical*se)\n",
    "    ul= md + (z_critical*se)\n",
    "    return ll, ul"
   ]
  },
  {
   "cell_type": "code",
   "execution_count": 864,
   "id": "pretty-packaging",
   "metadata": {},
   "outputs": [
    {
     "data": {
      "text/plain": [
       "(0.043610836642401535, 0.15708161927682626)"
      ]
     },
     "execution_count": 864,
     "metadata": {},
     "output_type": "execute_result"
    }
   ],
   "source": [
    "two_sample_intervals(x2, x1, significance=.95)"
   ]
  },
  {
   "cell_type": "code",
   "execution_count": 865,
   "id": "bound-variety",
   "metadata": {},
   "outputs": [
    {
     "data": {
      "text/plain": [
       "(3.215581891851615, 3.315928119811229)"
      ]
     },
     "execution_count": 865,
     "metadata": {},
     "output_type": "execute_result"
    }
   ],
   "source": [
    "x1.mean(), x2.mean()"
   ]
  },
  {
   "cell_type": "markdown",
   "id": "rocky-attraction",
   "metadata": {},
   "source": [
    "### Chi-square Test ($\\chi^2$) for independence"
   ]
  },
  {
   "cell_type": "markdown",
   "id": "acute-archive",
   "metadata": {},
   "source": [
    "#### $H\\theta:$ There is no statistically significance relationship between *Attrition* and *No of companies employee worked.* \n",
    "#### $H1:$ There is statistically significant relationship between *Attrition* and *No of companies employee worked.* "
   ]
  },
  {
   "cell_type": "code",
   "execution_count": 866,
   "id": "packed-bankruptcy",
   "metadata": {},
   "outputs": [],
   "source": [
    "table= pd.crosstab(df.numcompaniesworked, df.attrition).values"
   ]
  },
  {
   "cell_type": "code",
   "execution_count": 867,
   "id": "speaking-southwest",
   "metadata": {
    "scrolled": true
   },
   "outputs": [],
   "source": [
    "results= chi_square(table)"
   ]
  },
  {
   "cell_type": "code",
   "execution_count": 868,
   "id": "young-buffer",
   "metadata": {},
   "outputs": [
    {
     "name": "stdout",
     "output_type": "stream",
     "text": [
      "We reject the H0, as p-value < 0.05, which concludes that there is statistically significanct relationship between Attrition and  No of companies  employee worked \n"
     ]
    }
   ],
   "source": [
    "if results[1]< 0.05:\n",
    "    print('We reject the H0, as p-value < 0.05, which concludes that there is statistically significanct relationship between Attrition and  No of companies  employee worked ')\n",
    "else:\n",
    "    print('We failed to reject the H0, as p-value > 0.05, which concludes that there is no statistically significanct relationship between Attrition and No of companies  employee worked ')"
   ]
  },
  {
   "cell_type": "code",
   "execution_count": 869,
   "id": "natural-particle",
   "metadata": {},
   "outputs": [],
   "source": [
    "dof= (table.shape[0]-1)*(table.shape[1]-1)"
   ]
  },
  {
   "cell_type": "code",
   "execution_count": 895,
   "id": "victorian-stack",
   "metadata": {},
   "outputs": [],
   "source": [
    "from sklearn.preprocessing import LabelEncoder, PolynomialFeatures\n",
    "from sklearn.linear_model import LogisticRegression\n",
    "from sklearn.ensemble import RandomForestClassifier, GradientBoostingClassifier, AdaBoostClassifier\n",
    "from sklearn.tree import DecisionTreeClassifier\n",
    "from sklearn.naive_bayes import GaussianNB\n",
    "from sklearn.neighbors import KNeighborsClassifier\n",
    "from sklearn.svm import SVC\n",
    "from sklearn.linear_model import Lasso, Ridge, ElasticNet\n",
    "from sklearn.metrics import recall_score, precision_score, classification_report, confusion_matrix"
   ]
  },
  {
   "cell_type": "code",
   "execution_count": 871,
   "id": "wrong-opera",
   "metadata": {},
   "outputs": [],
   "source": [
    "### Imputing missing values:\n",
    "df.numcompaniesworked= df.numcompaniesworked.fillna(0)\n",
    "df.totalworkingyears= df.totalworkingyears.fillna(0)\n",
    "df=df.drop(['employeecount','over18','standardhours'], axis=1)"
   ]
  },
  {
   "cell_type": "code",
   "execution_count": 872,
   "id": "arbitrary-agent",
   "metadata": {},
   "outputs": [],
   "source": [
    "df.attrition= df.attrition.map({'Yes': 1, 'No': 0})"
   ]
  },
  {
   "cell_type": "code",
   "execution_count": 873,
   "id": "distinct-theme",
   "metadata": {},
   "outputs": [],
   "source": [
    "X= df.drop('attrition', axis=1)\n",
    "y= df.attrition"
   ]
  },
  {
   "cell_type": "code",
   "execution_count": 874,
   "id": "ultimate-mattress",
   "metadata": {},
   "outputs": [],
   "source": [
    "le=LabelEncoder()\n",
    "X[X.select_dtypes('O').columns]= X.select_dtypes('O').apply(lambda x: le.fit_transform(x))\n",
    "X=standard_scaler(X)"
   ]
  },
  {
   "cell_type": "code",
   "execution_count": 875,
   "id": "guided-color",
   "metadata": {},
   "outputs": [],
   "source": [
    "X_train, X_test, y_train, y_test= train_test_split(X, y, random_state=42, test_size=.25)"
   ]
  },
  {
   "cell_type": "code",
   "execution_count": 892,
   "id": "recovered-array",
   "metadata": {},
   "outputs": [],
   "source": [
    "model_dict= {'Logistic Regression': LogisticRegression(),\n",
    "            'Random Forest': RandomForestClassifier(),\n",
    "            'Decision Tree': DecisionTreeClassifier(),\n",
    "            'Naive Bayes': GaussianNB(),\n",
    "            'SVM': SVC(),\n",
    "            'Ada Boost': AdaBoostClassifier(),\n",
    "            'Gradient Boost:': GradientBoostingClassifier(),\n",
    "            'KNN': KNeighborsClassifier()}"
   ]
  },
  {
   "cell_type": "code",
   "execution_count": 916,
   "id": "minor-miami",
   "metadata": {},
   "outputs": [
    {
     "name": "stderr",
     "output_type": "stream",
     "text": [
      "100%|████████████████████████████████████████████████████████████████████████████████████| 8/8 [00:02<00:00,  2.74it/s]\n"
     ]
    }
   ],
   "source": [
    "precision_train, precision_test=[],[]\n",
    "recall_train, recall_test= [],[]\n",
    "models=[]\n",
    "for i in tqdm(model_dict.items()):\n",
    "    lm= i[1]\n",
    "    lm.fit(X_train, y_train)\n",
    "    predtrain= lm.predict(X_train)\n",
    "    predtest= lm.predict(X_test)\n",
    "    \n",
    "    precision_train.append(precision_score(y_train, predtrain))\n",
    "    precision_test.append(precision_score(y_test, predtest))\n",
    "    \n",
    "    recall_train.append(recall_score(y_train, predtrain))\n",
    "    recall_test.append(recall_score(y_test, predtest))\n",
    "    models.append(i[0])"
   ]
  },
  {
   "cell_type": "code",
   "execution_count": 919,
   "id": "found-smell",
   "metadata": {},
   "outputs": [
    {
     "data": {
      "image/png": "[encoded data removed]",
      "text/plain": [
       "<Figure size 756x360 with 1 Axes>"
      ]
     },
     "metadata": {},
     "output_type": "display_data"
    }
   ],
   "source": [
    "plt.plot(models, precision_train, lw=3,ls='--',label='Precison Train')\n",
    "plt.plot(models, precision_test, lw=3,ls='--',label='Precision Test')\n",
    "\n",
    "plt.plot(models, recall_train, lw=3,label='Recall Train')\n",
    "plt.plot(models, recall_test, lw=3,label='Recall Test')\n",
    "plt.xticks(rotation=90)\n",
    "plt.legend()\n",
    "plt.show()"
   ]
  },
  {
   "cell_type": "code",
   "execution_count": 928,
   "id": "beginning-recording",
   "metadata": {},
   "outputs": [
    {
     "name": "stdout",
     "output_type": "stream",
     "text": [
      "              precision    recall  f1-score   support\n",
      "\n",
      "           0       0.98      1.00      0.99       935\n",
      "           1       1.00      0.88      0.94       168\n",
      "\n",
      "    accuracy                           0.98      1103\n",
      "   macro avg       0.99      0.94      0.96      1103\n",
      "weighted avg       0.98      0.98      0.98      1103\n",
      "\n"
     ]
    }
   ],
   "source": [
    "rf= RandomForestClassifier(n_estimators=2000)\n",
    "rf.fit(X_train, y_train)\n",
    "print(classification_report(y_test, rf.predict(X_test)))"
   ]
  },
  {
   "cell_type": "code",
   "execution_count": 921,
   "id": "written-ballet",
   "metadata": {},
   "outputs": [
    {
     "name": "stdout",
     "output_type": "stream",
     "text": [
      "              precision    recall  f1-score   support\n",
      "\n",
      "           0       0.98      1.00      0.99       935\n",
      "           1       1.00      0.89      0.94       168\n",
      "\n",
      "    accuracy                           0.98      1103\n",
      "   macro avg       0.99      0.94      0.97      1103\n",
      "weighted avg       0.98      0.98      0.98      1103\n",
      "\n"
     ]
    }
   ],
   "source": []
  }
 ],
 "metadata": {
  "kernelspec": {
   "display_name": "Python 3",
   "language": "python",
   "name": "python3"
  },
  "language_info": {
   "codemirror_mode": {
    "name": "ipython",
    "version": 3
   },
   "file_extension": ".py",
   "mimetype": "text/x-python",
   "name": "python",
   "nbconvert_exporter": "python",
   "pygments_lexer": "ipython3",
   "version": "3.9.5"
  }
 },
 "nbformat": 4,
 "nbformat_minor": 5
}
